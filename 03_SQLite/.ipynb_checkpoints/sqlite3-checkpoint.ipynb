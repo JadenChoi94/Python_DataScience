{
 "cells": [
  {
   "cell_type": "markdown",
   "metadata": {},
   "source": [
    "# SQLite3\n",
    "## 1. 개요\n",
    "#### 1.1 경량 DBMS\n",
    "- 별도의 서버가 필요 없음\n",
    "- 모바일 기기에서 많이 활용되고 있음\n",
    "- 파이썬3에 기본 내장되어 있음\n",
    "- 파일 또는 메모리에 DB 생성\n",
    "- 참고자료: SQLite로 가볍게 배우는 데이터베이스 (WikiDocs)\n",
    "\n",
    "#### 1.2 데이터 타입\n",
    "- 동적 데이터 타입\n",
    "- Null, Integer, Real, Text, Blob 유형이 있음 (Boolean, Date, Time 없음)\n",
    "- 다른 유형 데이터를 삽입해도 컬럼에 맞게 알아서 들어감.\n",
    "- 다른 DB에서 사용하는 데이터유형 이름 그대로 사용해도 무방\n",
    "\n",
    "#### 1.3 DBMS 관리 툴\n",
    "- [SQLite Expert](http://www.sqliteexpert.com/download.html)\n",
    "- Personal version은 freeware 이므로 사용할 수 있음"
   ]
  },
  {
   "cell_type": "markdown",
   "metadata": {},
   "source": [
    "## 2. 파이썬에서 사용하는 방법"
   ]
  },
  {
   "cell_type": "code",
   "execution_count": 118,
   "metadata": {},
   "outputs": [],
   "source": [
    "import sqlite3"
   ]
  },
  {
   "cell_type": "markdown",
   "metadata": {},
   "source": [
    "- **데이터베이스 접속**"
   ]
  },
  {
   "cell_type": "code",
   "execution_count": 119,
   "metadata": {},
   "outputs": [
    {
     "data": {
      "text/plain": [
       "\"\\nconn = sqlite3.connect(':memory:')    # 메모리 DB 접속(일회성)\\n\""
      ]
     },
     "execution_count": 119,
     "metadata": {},
     "output_type": "execute_result"
    }
   ],
   "source": [
    "conn = sqlite3.connect('./test.db') \n",
    "'''\n",
    "conn = sqlite3.connect(':memory:')    # 메모리 DB 접속(일회성)\n",
    "'''"
   ]
  },
  {
   "cell_type": "markdown",
   "metadata": {},
   "source": [
    "- **테이블 생성**"
   ]
  },
  {
   "cell_type": "code",
   "execution_count": 120,
   "metadata": {},
   "outputs": [
    {
     "data": {
      "text/plain": [
       "<sqlite3.Cursor at 0x51e86c0>"
      ]
     },
     "execution_count": 120,
     "metadata": {},
     "output_type": "execute_result"
    }
   ],
   "source": [
    "cur = conn.cursor()\n",
    "cur.execute('CREATE TABLE IF NOT EXISTS Eagles \\\n",
    "    (back_no INT NOT NULL, \\\n",
    "     name TEXT, \\\n",
    "     position TEXT, \\\n",
    "     hands TEXT, \\\n",
    "     highschool TEXT, \\\n",
    "     height INT, \\\n",
    "     PRIMARY KEY(back_no));')\n"
   ]
  },
  {
   "cell_type": "markdown",
   "metadata": {},
   "source": [
    "- **데이터 삽입(Insert)**"
   ]
  },
  {
   "cell_type": "code",
   "execution_count": 121,
   "metadata": {},
   "outputs": [
    {
     "ename": "OperationalError",
     "evalue": "database is locked",
     "output_type": "error",
     "traceback": [
      "\u001b[1;31m---------------------------------------------------------------------------\u001b[0m",
      "\u001b[1;31mOperationalError\u001b[0m                          Traceback (most recent call last)",
      "\u001b[1;32m<ipython-input-121-e63c640a9d92>\u001b[0m in \u001b[0;36m<module>\u001b[1;34m\u001b[0m\n\u001b[0;32m      2\u001b[0m cur.execute(\"INSERT INTO Eagles VALUES \\\n\u001b[0;32m      3\u001b[0m     \u001b[1;33m(\u001b[0m\u001b[1;36m1\u001b[0m\u001b[1;33m,\u001b[0m \u001b[1;34m'하주석'\u001b[0m\u001b[1;33m,\u001b[0m \u001b[1;34m'내야수'\u001b[0m\u001b[1;33m,\u001b[0m \u001b[1;34m'우투좌타'\u001b[0m\u001b[1;33m,\u001b[0m \u001b[1;34m'신일고'\u001b[0m\u001b[1;33m,\u001b[0m \u001b[1;36m184\u001b[0m\u001b[1;33m)\u001b[0m\u001b[1;33m,\u001b[0m\u001b[0;31m \u001b[0m\u001b[0;31m\\\u001b[0m\u001b[1;33m\u001b[0m\u001b[1;33m\u001b[0m\u001b[0m\n\u001b[1;32m----> 4\u001b[1;33m     (28, '양성우', '외야수', '우투좌타', '충암고', 177);\")\n\u001b[0m",
      "\u001b[1;31mOperationalError\u001b[0m: database is locked"
     ]
    }
   ],
   "source": [
    "cur = conn.cursor()\n",
    "cur.execute(\"INSERT INTO Eagles VALUES \\\n",
    "    (1, '하주석', '내야수', '우투좌타', '신일고', 184), \\\n",
    "    (28, '양성우', '외야수', '우투좌타', '충암고', 177);\")"
   ]
  },
  {
   "cell_type": "markdown",
   "metadata": {},
   "source": [
    "- **변경사항 저장**"
   ]
  },
  {
   "cell_type": "code",
   "execution_count": null,
   "metadata": {},
   "outputs": [],
   "source": [
    "conn.commit()"
   ]
  },
  {
   "cell_type": "markdown",
   "metadata": {},
   "source": [
    "- 모든필드를 삽일할 경우에는 필드명 생략가능\n",
    "- 튜플의 리스트 형태로 한꺼번에 여러 데이터를 입력할 수 있음"
   ]
  },
  {
   "cell_type": "markdown",
   "metadata": {},
   "source": [
    "- **파일에서 읽어서 데이터베이스에 쓰기**"
   ]
  },
  {
   "cell_type": "code",
   "execution_count": null,
   "metadata": {},
   "outputs": [],
   "source": [
    "import pandas as pd\n",
    "players = pd.read_csv('./players.csv', encoding='EUC-KR')\n",
    "players"
   ]
  },
  {
   "cell_type": "code",
   "execution_count": null,
   "metadata": {},
   "outputs": [],
   "source": [
    "cur = conn.cursor()\n",
    "sql = 'INSERT INTO Eagles VALUES (?, ?, ?, ?, ?, ?);'\n",
    "for i in range(10):\n",
    "    cur.execute(sql, (int(players.iloc[i,0]), \n",
    "                      players.iloc[i,1], players.iloc[i,2], \n",
    "                      players.iloc[i,3], players.iloc[i,4], \n",
    "                      int(players.iloc[i,5])))\n",
    "conn.commit()"
   ]
  },
  {
   "cell_type": "markdown",
   "metadata": {},
   "source": [
    "- **데이터조회**"
   ]
  },
  {
   "cell_type": "code",
   "execution_count": null,
   "metadata": {
    "scrolled": true
   },
   "outputs": [],
   "source": [
    "# 순회 조회\n",
    "cur = conn.cursor()\n",
    "cur.execute('SELECT * FROM Eagles')\n",
    "for row in cur:\n",
    "print(row)"
   ]
  },
  {
   "cell_type": "code",
   "execution_count": null,
   "metadata": {},
   "outputs": [],
   "source": [
    "# 단건 조회\n",
    "cur = conn.cursor()\n",
    "cur.execute('SELECT * FROM Eagles')\n",
    "row = cur.fetchone() # 하나만 가져옴\n",
    "print(row)"
   ]
  },
  {
   "cell_type": "code",
   "execution_count": null,
   "metadata": {},
   "outputs": [],
   "source": [
    "# 다건 조회\n",
    "rows = cur.fetchmany(2) #2건 이상시\n",
    "for row in rows:\n",
    "    print(row)"
   ]
  },
  {
   "cell_type": "code",
   "execution_count": null,
   "metadata": {},
   "outputs": [],
   "source": [
    "# 모두 조회\n",
    "rows = cur.fetchall()\n",
    "for row in rows:\n",
    "    print(row)"
   ]
  },
  {
   "cell_type": "markdown",
   "metadata": {},
   "source": [
    "- **데이터 조회**<br>\n",
    "SELECT field1, f2, ..., fn[또는 \\*] FROM table <br>\n",
    "    WHERE 조건<br>\n",
    "    ORDER BY field [DESC]<br>\n",
    "    GROUP BY field<br>\n",
    "    LIMIT 숫자<br>"
   ]
  },
  {
   "cell_type": "code",
   "execution_count": 122,
   "metadata": {},
   "outputs": [
    {
     "name": "stdout",
     "output_type": "stream",
     "text": [
      "('장민재',)\n",
      "('안영명',)\n",
      "('정은원',)\n",
      "('이성열',)\n",
      "('김태균',)\n"
     ]
    }
   ],
   "source": [
    "# 필요한 column만 조회, 조회조건도 추가\n",
    "cur = conn.cursor() #커서리셋 제일 위로 올라감\n",
    "cur.execute('SELECT name FROM Eagles WHERE back_no > 30')\n",
    "rows = cur.fetchall();\n",
    "for row in rows:\n",
    "    print(row)"
   ]
  },
  {
   "cell_type": "code",
   "execution_count": 123,
   "metadata": {},
   "outputs": [
    {
     "name": "stdout",
     "output_type": "stream",
     "text": [
      "(1, '하주석', '내야수', '우투좌타', '신일고', 184)\n",
      "(52, '김태균', '내야수', '우투우타', '천안북일고', 185)\n",
      "(7, '송광민', '내야수', '우투우타', '공주고', 184)\n",
      "(50, '이성열', '내야수', '우투좌타', '순천효천고', 185)\n",
      "(43, '정은원', '내야수', '우투좌타', '인천고', 177)\n"
     ]
    }
   ],
   "source": [
    "# 조회조건\n",
    "cur = conn.cursor() \n",
    "cur.execute(\"SELECT * FROM Eagles WHERE position like '내야수' \") #문자열 검색시, like\n",
    "rows = cur.fetchall();\n",
    "for row in rows:\n",
    "    print(row)"
   ]
  },
  {
   "cell_type": "code",
   "execution_count": 124,
   "metadata": {},
   "outputs": [
    {
     "name": "stdout",
     "output_type": "stream",
     "text": [
      "(25, '최진행', '외야수', '우투우타', '덕수정보고', 188)\n",
      "(52, '김태균', '내야수', '우투우타', '천안북일고', 185)\n",
      "(50, '이성열', '내야수', '우투좌타', '순천효천고', 185)\n",
      "(1, '하주석', '내야수', '우투좌타', '신일고', 184)\n",
      "(36, '장민재', '투수', '우투우타', '광주제일고', 184)\n"
     ]
    }
   ],
   "source": [
    "# 원하는 순서 및 갯수\n",
    "cur = conn.cursor()\n",
    "cur.execute('SELECT * FROM Eagles ORDER BY height DESC LIMIT 5')\n",
    "rows = cur.fetchall();\n",
    "for row in rows:\n",
    "    print(row)"
   ]
  },
  {
   "cell_type": "code",
   "execution_count": 125,
   "metadata": {},
   "outputs": [
    {
     "name": "stdout",
     "output_type": "stream",
     "text": [
      "하주석\n"
     ]
    }
   ],
   "source": [
    "cur.execute('SELECT * FROM Eagles ORDER BY name DESC LIMIT 1')\n",
    "row = cur.fetchone()\n",
    "print(row[1])"
   ]
  },
  {
   "cell_type": "code",
   "execution_count": 126,
   "metadata": {},
   "outputs": [
    {
     "name": "stdout",
     "output_type": "stream",
     "text": [
      "(12,)\n"
     ]
    }
   ],
   "source": [
    "# 집계 함수\n",
    "cur.execute('SELECT count(*) FROM Eagles')\n",
    "count = cur.fetchone()\n",
    "print(count)"
   ]
  },
  {
   "cell_type": "code",
   "execution_count": 127,
   "metadata": {
    "scrolled": true
   },
   "outputs": [
    {
     "name": "stdout",
     "output_type": "stream",
     "text": [
      "('내야수', 5, 183.0)\n",
      "('외야수', 3, 179.0)\n",
      "('투수', 3, 182.66666666666666)\n",
      "('포수', 1, 178.0)\n"
     ]
    }
   ],
   "source": [
    "# 그룹핑, 집계함수\n",
    "cur.execute('SELECT position, count(*), avg(height) FROM Eagles GROUP BY position')\n",
    "rows = cur.fetchall();\n",
    "for row in rows:\n",
    "    print(row)"
   ]
  },
  {
   "cell_type": "markdown",
   "metadata": {},
   "source": [
    "- **데이터 검색**"
   ]
  },
  {
   "cell_type": "code",
   "execution_count": 128,
   "metadata": {},
   "outputs": [
    {
     "name": "stdout",
     "output_type": "stream",
     "text": [
      "50\n"
     ]
    }
   ],
   "source": [
    "# Placeholder\n",
    "cur = conn.cursor()\n",
    "back_no = 50\n",
    "cur.execute('SELECT * FROM Eagles WHERE back_no=?;' , (back_no,))\n",
    "player = cur.fetchone()\n",
    "print(player[0])"
   ]
  },
  {
   "cell_type": "markdown",
   "metadata": {},
   "source": [
    "- **데이터 변경(update)**<br>\n",
    "UPDATE table SET field1 = value1, ...WHERE 조건;"
   ]
  },
  {
   "cell_type": "code",
   "execution_count": 129,
   "metadata": {},
   "outputs": [
    {
     "ename": "OperationalError",
     "evalue": "database is locked",
     "output_type": "error",
     "traceback": [
      "\u001b[1;31m---------------------------------------------------------------------------\u001b[0m",
      "\u001b[1;31mOperationalError\u001b[0m                          Traceback (most recent call last)",
      "\u001b[1;32m<ipython-input-129-30c41272e093>\u001b[0m in \u001b[0;36m<module>\u001b[1;34m\u001b[0m\n\u001b[0;32m      1\u001b[0m \u001b[0mcur\u001b[0m \u001b[1;33m=\u001b[0m \u001b[0mconn\u001b[0m\u001b[1;33m.\u001b[0m\u001b[0mcursor\u001b[0m\u001b[1;33m(\u001b[0m\u001b[1;33m)\u001b[0m\u001b[1;33m\u001b[0m\u001b[1;33m\u001b[0m\u001b[0m\n\u001b[0;32m      2\u001b[0m cur.execute(\"UPDATE Eagles SET hands='우투좌타', highschool='미국고',\\\n\u001b[1;32m----> 3\u001b[1;33m                 height=190 WHERE back_no=30;\")\n\u001b[0m\u001b[0;32m      4\u001b[0m \u001b[0mconn\u001b[0m\u001b[1;33m.\u001b[0m\u001b[0mcommit\u001b[0m\u001b[1;33m(\u001b[0m\u001b[1;33m)\u001b[0m\u001b[1;33m\u001b[0m\u001b[1;33m\u001b[0m\u001b[0m\n",
      "\u001b[1;31mOperationalError\u001b[0m: database is locked"
     ]
    }
   ],
   "source": [
    "cur = conn.cursor()\n",
    "cur.execute(\"UPDATE Eagles SET hands='우투좌타', highschool='미국고',\\\n",
    "                height=190 WHERE back_no=30;\")\n",
    "conn.commit()"
   ]
  },
  {
   "cell_type": "code",
   "execution_count": 110,
   "metadata": {},
   "outputs": [
    {
     "ename": "SyntaxError",
     "evalue": "invalid character in identifier (<ipython-input-110-0b6c1601e266>, line 9)",
     "output_type": "error",
     "traceback": [
      "\u001b[1;36m  File \u001b[1;32m\"<ipython-input-110-0b6c1601e266>\"\u001b[1;36m, line \u001b[1;32m9\u001b[0m\n\u001b[1;33m    sql = ‘UPDATE Eagles SET position=? WHERE back_no=?‘\u001b[0m\n\u001b[1;37m                ^\u001b[0m\n\u001b[1;31mSyntaxError\u001b[0m\u001b[1;31m:\u001b[0m invalid character in identifier\n"
     ]
    }
   ],
   "source": [
    "position = '외야수'\n",
    "back_no = 8\n",
    "cur.execute('UPDATE Eagles SET position=? WHERE back_no=?;',\n",
    "            (position, back_no))\n",
    "cur.execute('SELECT * FROM Eagles WHERE back_no=?', (back_no,))\n",
    "cur.fetchone()\n",
    "\n",
    "data = ((1995,1), (1986,57))\n",
    "sql = ‘UPDATE Eagles SET position=? WHERE back_no=?‘\n",
    "cur.executedmany(sql, data)"
   ]
  },
  {
   "cell_type": "markdown",
   "metadata": {},
   "source": [
    "- **데이터 삭제(delete)**<br>\n",
    "DELETE FROM table WHERE 조건;"
   ]
  },
  {
   "cell_type": "code",
   "execution_count": 111,
   "metadata": {},
   "outputs": [
    {
     "ename": "SyntaxError",
     "evalue": "EOL while scanning string literal (<ipython-input-111-74965fa333c3>, line 2)",
     "output_type": "error",
     "traceback": [
      "\u001b[1;36m  File \u001b[1;32m\"<ipython-input-111-74965fa333c3>\"\u001b[1;36m, line \u001b[1;32m2\u001b[0m\n\u001b[1;33m    cur.execute('DELETE FROM Eagles WHERE back_no=1;'')\u001b[0m\n\u001b[1;37m                                                       ^\u001b[0m\n\u001b[1;31mSyntaxError\u001b[0m\u001b[1;31m:\u001b[0m EOL while scanning string literal\n"
     ]
    }
   ],
   "source": [
    "cur = conn.cursor()\n",
    "cur.execute('DELETE FROM Eagles WHERE back_no=1;'')\n",
    "conn.commit()"
   ]
  },
  {
   "cell_type": "markdown",
   "metadata": {},
   "source": [
    "## Table Join을 위한 준비"
   ]
  },
  {
   "cell_type": "code",
   "execution_count": 130,
   "metadata": {},
   "outputs": [
    {
     "data": {
      "text/plain": [
       "<sqlite3.Cursor at 0x51bf960>"
      ]
     },
     "execution_count": 130,
     "metadata": {},
     "output_type": "execute_result"
    }
   ],
   "source": [
    "cur = conn.cursor()\n",
    "cur.execute('CREATE TABLE IF NOT EXISTS stats \\\n",
    "            (id INT NOT NULL, \\\n",
    "            player TEXT, \\\n",
    "            average REAL, \\\n",
    "            rbi INT, \\\n",
    "            homerun INT, \\\n",
    "            PRIMARY KEY(id));')"
   ]
  },
  {
   "cell_type": "code",
   "execution_count": 131,
   "metadata": {},
   "outputs": [
    {
     "data": {
      "text/html": [
       "<div>\n",
       "<style scoped>\n",
       "    .dataframe tbody tr th:only-of-type {\n",
       "        vertical-align: middle;\n",
       "    }\n",
       "\n",
       "    .dataframe tbody tr th {\n",
       "        vertical-align: top;\n",
       "    }\n",
       "\n",
       "    .dataframe thead th {\n",
       "        text-align: right;\n",
       "    }\n",
       "</style>\n",
       "<table border=\"1\" class=\"dataframe\">\n",
       "  <thead>\n",
       "    <tr style=\"text-align: right;\">\n",
       "      <th></th>\n",
       "      <th>player</th>\n",
       "      <th>average</th>\n",
       "      <th>rbi</th>\n",
       "      <th>homerun</th>\n",
       "    </tr>\n",
       "  </thead>\n",
       "  <tbody>\n",
       "    <tr>\n",
       "      <th>0</th>\n",
       "      <td>호잉</td>\n",
       "      <td>0.288</td>\n",
       "      <td>58</td>\n",
       "      <td>15</td>\n",
       "    </tr>\n",
       "    <tr>\n",
       "      <th>1</th>\n",
       "      <td>양성우</td>\n",
       "      <td>0.176</td>\n",
       "      <td>6</td>\n",
       "      <td>1</td>\n",
       "    </tr>\n",
       "    <tr>\n",
       "      <th>2</th>\n",
       "      <td>최재훈</td>\n",
       "      <td>0.300</td>\n",
       "      <td>24</td>\n",
       "      <td>2</td>\n",
       "    </tr>\n",
       "    <tr>\n",
       "      <th>3</th>\n",
       "      <td>김태균</td>\n",
       "      <td>0.308</td>\n",
       "      <td>43</td>\n",
       "      <td>5</td>\n",
       "    </tr>\n",
       "    <tr>\n",
       "      <th>4</th>\n",
       "      <td>송광민</td>\n",
       "      <td>0.257</td>\n",
       "      <td>39</td>\n",
       "      <td>6</td>\n",
       "    </tr>\n",
       "    <tr>\n",
       "      <th>5</th>\n",
       "      <td>이성열</td>\n",
       "      <td>0.257</td>\n",
       "      <td>62</td>\n",
       "      <td>18</td>\n",
       "    </tr>\n",
       "    <tr>\n",
       "      <th>6</th>\n",
       "      <td>정은원</td>\n",
       "      <td>0.281</td>\n",
       "      <td>47</td>\n",
       "      <td>5</td>\n",
       "    </tr>\n",
       "    <tr>\n",
       "      <th>7</th>\n",
       "      <td>정근우</td>\n",
       "      <td>0.219</td>\n",
       "      <td>10</td>\n",
       "      <td>2</td>\n",
       "    </tr>\n",
       "    <tr>\n",
       "      <th>8</th>\n",
       "      <td>최진행</td>\n",
       "      <td>0.184</td>\n",
       "      <td>14</td>\n",
       "      <td>3</td>\n",
       "    </tr>\n",
       "  </tbody>\n",
       "</table>\n",
       "</div>"
      ],
      "text/plain": [
       "  player  average  rbi  homerun\n",
       "0     호잉    0.288   58       15\n",
       "1    양성우    0.176    6        1\n",
       "2    최재훈    0.300   24        2\n",
       "3    김태균    0.308   43        5\n",
       "4    송광민    0.257   39        6\n",
       "5    이성열    0.257   62       18\n",
       "6    정은원    0.281   47        5\n",
       "7    정근우    0.219   10        2\n",
       "8    최진행    0.184   14        3"
      ]
     },
     "execution_count": 131,
     "metadata": {},
     "output_type": "execute_result"
    }
   ],
   "source": [
    "stats = pd.read_csv('.\\stats.csv', encoding = 'EUC-KR')\n",
    "stats"
   ]
  },
  {
   "cell_type": "code",
   "execution_count": 132,
   "metadata": {},
   "outputs": [
    {
     "ename": "OperationalError",
     "evalue": "table Stats has 5 columns but 6 values were supplied",
     "output_type": "error",
     "traceback": [
      "\u001b[1;31m---------------------------------------------------------------------------\u001b[0m",
      "\u001b[1;31mOperationalError\u001b[0m                          Traceback (most recent call last)",
      "\u001b[1;32m<ipython-input-132-16255e6b9a87>\u001b[0m in \u001b[0;36m<module>\u001b[1;34m\u001b[0m\n\u001b[0;32m      5\u001b[0m                           \u001b[0mfloat\u001b[0m\u001b[1;33m(\u001b[0m\u001b[0mstats\u001b[0m\u001b[1;33m.\u001b[0m\u001b[0miloc\u001b[0m\u001b[1;33m[\u001b[0m\u001b[0mi\u001b[0m\u001b[1;33m,\u001b[0m\u001b[1;36m1\u001b[0m\u001b[1;33m]\u001b[0m\u001b[1;33m)\u001b[0m\u001b[1;33m,\u001b[0m\u001b[1;33m\u001b[0m\u001b[1;33m\u001b[0m\u001b[0m\n\u001b[0;32m      6\u001b[0m                           \u001b[0mint\u001b[0m\u001b[1;33m(\u001b[0m\u001b[0mstats\u001b[0m\u001b[1;33m.\u001b[0m\u001b[0miloc\u001b[0m\u001b[1;33m[\u001b[0m\u001b[0mi\u001b[0m\u001b[1;33m,\u001b[0m\u001b[1;36m2\u001b[0m\u001b[1;33m]\u001b[0m\u001b[1;33m)\u001b[0m\u001b[1;33m,\u001b[0m\u001b[1;33m\u001b[0m\u001b[1;33m\u001b[0m\u001b[0m\n\u001b[1;32m----> 7\u001b[1;33m                           int(stats.iloc[i,3])))\n\u001b[0m\u001b[0;32m      8\u001b[0m \u001b[0mconn\u001b[0m\u001b[1;33m.\u001b[0m\u001b[0mcommit\u001b[0m\u001b[1;33m(\u001b[0m\u001b[1;33m)\u001b[0m\u001b[1;33m\u001b[0m\u001b[1;33m\u001b[0m\u001b[0m\n",
      "\u001b[1;31mOperationalError\u001b[0m: table Stats has 5 columns but 6 values were supplied"
     ]
    }
   ],
   "source": [
    "cur = conn.cursor()\n",
    "sql = 'INSERT INTO Stats VALUES (?, ?, ?, ?, ?, ?);'\n",
    "for i in range(9):\n",
    "    cur.execute(sql, (i+1, \n",
    "                          stats.iloc[i,0], \n",
    "                          float(stats.iloc[i,1]),\n",
    "                          int(stats.iloc[i,2]), \n",
    "                          int(stats.iloc[i,3])))\n",
    "conn.commit()"
   ]
  },
  {
   "cell_type": "code",
   "execution_count": 117,
   "metadata": {},
   "outputs": [
    {
     "ename": "OperationalError",
     "evalue": "database is locked",
     "output_type": "error",
     "traceback": [
      "\u001b[1;31m---------------------------------------------------------------------------\u001b[0m",
      "\u001b[1;31mOperationalError\u001b[0m                          Traceback (most recent call last)",
      "\u001b[1;32m<ipython-input-117-4cf2369cf89f>\u001b[0m in \u001b[0;36m<module>\u001b[1;34m\u001b[0m\n\u001b[1;32m----> 1\u001b[1;33m \u001b[0mcur\u001b[0m\u001b[1;33m.\u001b[0m\u001b[0mexecute\u001b[0m\u001b[1;33m(\u001b[0m\u001b[1;34m\"DROP TABLE stats\"\u001b[0m\u001b[1;33m)\u001b[0m\u001b[1;33m\u001b[0m\u001b[1;33m\u001b[0m\u001b[0m\n\u001b[0m\u001b[0;32m      2\u001b[0m \u001b[0mconn\u001b[0m\u001b[1;33m.\u001b[0m\u001b[0mcommit\u001b[0m\u001b[1;33m(\u001b[0m\u001b[1;33m)\u001b[0m\u001b[1;33m\u001b[0m\u001b[1;33m\u001b[0m\u001b[0m\n",
      "\u001b[1;31mOperationalError\u001b[0m: database is locked"
     ]
    }
   ],
   "source": [
    "cur.execute(\"DROP TABLE stats\")\n",
    "conn.commit()"
   ]
  },
  {
   "cell_type": "code",
   "execution_count": 133,
   "metadata": {},
   "outputs": [],
   "source": [
    "cur = conn.cursor()\n",
    "cur.execute('SELECT * FROM stats')\n",
    "for row in cur:\n",
    "    print(row)"
   ]
  },
  {
   "cell_type": "code",
   "execution_count": null,
   "metadata": {},
   "outputs": [],
   "source": [
    "sql = 'SELECT Eagles.back_no, Eagles.name, Eagles.position,\\\n",
    "            Stats.average, Stats.rbi, Stats.homerun \\\n",
    "            FROM Eagles JOIN Stats \\\n",
    "            ON Eagles.name like Stats.player;'\n",
    "sql = 'SELECT e.back_no, e.name, e.position,\\\n",
    "            s.average, s.rbi, s.homerun \\\n",
    "            FROM Eagles AS e JOIN Stats AS s \\\n",
    "            ON e.name like s.player;'\n",
    "cur = conn.cursor()\n",
    "cur.execute(sql)\n",
    "for row in cur:\n",
    "    print(row)"
   ]
  },
  {
   "cell_type": "code",
   "execution_count": null,
   "metadata": {},
   "outputs": [],
   "source": []
  },
  {
   "cell_type": "code",
   "execution_count": null,
   "metadata": {},
   "outputs": [],
   "source": []
  },
  {
   "cell_type": "code",
   "execution_count": null,
   "metadata": {},
   "outputs": [],
   "source": []
  },
  {
   "cell_type": "code",
   "execution_count": null,
   "metadata": {},
   "outputs": [],
   "source": []
  },
  {
   "cell_type": "code",
   "execution_count": 8,
   "metadata": {},
   "outputs": [],
   "source": [
    "conn.close()"
   ]
  }
 ],
 "metadata": {
  "kernelspec": {
   "display_name": "Python 3",
   "language": "python",
   "name": "python3"
  },
  "language_info": {
   "codemirror_mode": {
    "name": "ipython",
    "version": 3
   },
   "file_extension": ".py",
   "mimetype": "text/x-python",
   "name": "python",
   "nbconvert_exporter": "python",
   "pygments_lexer": "ipython3",
   "version": "3.7.3"
  }
 },
 "nbformat": 4,
 "nbformat_minor": 2
}
