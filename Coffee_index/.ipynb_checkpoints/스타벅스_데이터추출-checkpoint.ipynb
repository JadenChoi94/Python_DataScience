{
 "cells": [
  {
   "cell_type": "code",
   "execution_count": 134,
   "metadata": {},
   "outputs": [],
   "source": [
    "import requests\n",
    "import json\n",
    "import pandas as pd\n",
    "from pandas.io.json import json_normalize"
   ]
  },
  {
   "cell_type": "code",
   "execution_count": 128,
   "metadata": {
    "scrolled": true
   },
   "outputs": [],
   "source": [
    "data = {\n",
    "    'ins_lat':'37.56682', # 지정한 위도와 경도에서 가까운 순으로 나열\n",
    "    'ins_lng':'126.97865',\n",
    "    'p_sido_cd':'01', # 01=서울시, 08=경기 ... 16=제주\n",
    "    'p_gugun_cd':'',  # 세부지역 (지정하지 않으면 시/도 전체)\n",
    "    'in_biz_cd':'',\n",
    "    'set_date':'',\n",
    "    'iend':'1000',\n",
    "}\n",
    "    \n",
    "url = 'https://www.istarbucks.co.kr/store/getStore.do'\n",
    "r = requests.post(url, data=data)\n",
    "\n",
    "jo = json.loads(r.text)\n",
    "df = json_normalize(jo, 'list')\n",
    "\n",
    "df = df[['s_name', 'lat', 'lot', 'sido_name', 'gugun_name', 'doro_address', 'tel']]#주요컴럼만\n",
    "\n",
    "df['lat'] = df['lat'].astype(float)\n",
    "df['lot'] = df['lot'].astype(float)"
   ]
  },
  {
   "cell_type": "code",
   "execution_count": 129,
   "metadata": {},
   "outputs": [],
   "source": [
    "df.to_excel('data/스타벅스_세종.xlsx')"
   ]
  },
  {
   "cell_type": "code",
   "execution_count": 150,
   "metadata": {},
   "outputs": [],
   "source": [
    "import csv\n",
    "d1=pd.read_csv('data/스타벅스_서울.csv', encoding='utf-8')\n",
    "d2=pd.read_csv('data/스타벅스_광주.csv', encoding='utf-8')\n",
    "d3=pd.read_csv('data/스타벅스_대구.csv', encoding='utf-8')\n",
    "d4=pd.read_csv('data/스타벅스_대전.csv', encoding='utf-8')\n",
    "d5=pd.read_csv('data/스타벅스_부산.csv', encoding='utf-8')\n",
    "d6=pd.read_csv('data/스타벅스_울산.csv', encoding='utf-8')\n",
    "d7=pd.read_csv('data/스타벅스_인천.csv', encoding='utf-8')\n",
    "d8=pd.read_csv('data/스타벅스_경기도.csv', encoding='utf-8')\n",
    "d9=pd.read_csv('data/스타벅스_강원도.csv', encoding='utf-8')\n",
    "d10=pd.read_csv('data/스타벅스_경남.csv', encoding='utf-8')\n",
    "d11=pd.read_csv('data/스타벅스_경북.csv', encoding='utf-8')\n",
    "d12=pd.read_csv('data/스타벅스_전남.csv', encoding='utf-8')\n",
    "d13=pd.read_csv('data/스타벅스_전북.csv', encoding='utf-8')\n",
    "d14=pd.read_csv('data/스타벅스_충남.csv', encoding='utf-8')\n",
    "d15=pd.read_csv('data/스타벅스_충북.csv', encoding='utf-8')\n",
    "d16=pd.read_csv('data/스타벅스_세종.csv', encoding='utf-8')\n",
    "d17=pd.read_csv('data/스타벅스_제주.csv', encoding='utf-8')\n"
   ]
  },
  {
   "cell_type": "code",
   "execution_count": 157,
   "metadata": {},
   "outputs": [],
   "source": [
    "total_starbucks=pd.concat([d1, d2, d3, d4, d5, d6, d7, d8, d9, d10, d11, d12, d13, d14, d15, d16, d17])"
   ]
  },
  {
   "cell_type": "code",
   "execution_count": 154,
   "metadata": {},
   "outputs": [
    {
     "data": {
      "text/plain": [
       "1308"
      ]
     },
     "execution_count": 154,
     "metadata": {},
     "output_type": "execute_result"
    }
   ],
   "source": [
    "len(total_starbucks)"
   ]
  },
  {
   "cell_type": "code",
   "execution_count": 159,
   "metadata": {},
   "outputs": [],
   "source": [
    "total_starbucks.to_csv('data/Total_starbuks.csv')\n",
    "total_starbucks.to_excel('data/Total_starbuks.xlsx')"
   ]
  },
  {
   "cell_type": "code",
   "execution_count": null,
   "metadata": {},
   "outputs": [],
   "source": []
  },
  {
   "cell_type": "code",
   "execution_count": null,
   "metadata": {},
   "outputs": [],
   "source": []
  },
  {
   "cell_type": "code",
   "execution_count": null,
   "metadata": {},
   "outputs": [],
   "source": []
  }
 ],
 "metadata": {
  "kernelspec": {
   "display_name": "Python 3",
   "language": "python",
   "name": "python3"
  },
  "language_info": {
   "codemirror_mode": {
    "name": "ipython",
    "version": 3
   },
   "file_extension": ".py",
   "mimetype": "text/x-python",
   "name": "python",
   "nbconvert_exporter": "python",
   "pygments_lexer": "ipython3",
   "version": "3.7.3"
  }
 },
 "nbformat": 4,
 "nbformat_minor": 2
}
